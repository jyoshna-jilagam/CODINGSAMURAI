{
 "cells": [
  {
   "cell_type": "markdown",
   "id": "1ebc3aaf-6762-4002-8ce5-5e25eaaef263",
   "metadata": {},
   "source": [
    "### Project 4: Logistic Regression on Titanic Dataset"
   ]
  },
  {
   "cell_type": "markdown",
   "id": "2bea68dc-c914-49a7-8be9-c72ee6363067",
   "metadata": {},
   "source": [
    "## Step 1: Import Libraries"
   ]
  },
  {
   "cell_type": "code",
   "execution_count": 1,
   "id": "e9709b75-2914-4315-9e47-9bf18f951fe5",
   "metadata": {},
   "outputs": [],
   "source": [
    "import pandas as pd\n",
    "import numpy as np\n",
    "import seaborn as sns\n",
    "import matplotlib.pyplot as plt\n",
    "from sklearn.model_selection import train_test_split\n",
    "from sklearn.linear_model import LogisticRegression\n",
    "from sklearn.metrics import accuracy_score, confusion_matrix, classification_report"
   ]
  },
  {
   "cell_type": "markdown",
   "id": "7904a1e3-b839-4b32-a135-68d3a2e74b09",
   "metadata": {},
   "source": [
    "## Step 2: Load Titanic Dataset"
   ]
  },
  {
   "cell_type": "code",
   "execution_count": 2,
   "id": "3e249201-6253-43c1-8601-ed50909408ae",
   "metadata": {},
   "outputs": [
    {
     "name": "stdout",
     "output_type": "stream",
     "text": [
      "   survived  pclass     sex   age  sibsp  parch     fare embarked  class  \\\n",
      "0         0       3    male  22.0      1      0   7.2500        S  Third   \n",
      "1         1       1  female  38.0      1      0  71.2833        C  First   \n",
      "2         1       3  female  26.0      0      0   7.9250        S  Third   \n",
      "3         1       1  female  35.0      1      0  53.1000        S  First   \n",
      "4         0       3    male  35.0      0      0   8.0500        S  Third   \n",
      "\n",
      "     who  adult_male deck  embark_town alive  alone  \n",
      "0    man        True  NaN  Southampton    no  False  \n",
      "1  woman       False    C    Cherbourg   yes  False  \n",
      "2  woman       False  NaN  Southampton   yes   True  \n",
      "3  woman       False    C  Southampton   yes  False  \n",
      "4    man        True  NaN  Southampton    no   True  \n"
     ]
    }
   ],
   "source": [
    "# Titanic dataset from seaborn\n",
    "df = sns.load_dataset(\"titanic\")\n",
    "print(df.head())\n"
   ]
  },
  {
   "cell_type": "markdown",
   "id": "79bd6d22-0a4e-40b2-b385-4106c535de77",
   "metadata": {},
   "source": [
    "## Step 3: Data Preprocessing\n",
    "\n",
    "Select useful features: age, sex, pclass\n",
    "\n",
    "Handle missing values (age)\n",
    "\n",
    "Encode categorical variable (sex)"
   ]
  },
  {
   "cell_type": "code",
   "execution_count": 3,
   "id": "c306fe5d-f979-4227-8869-77dbeddac3f8",
   "metadata": {},
   "outputs": [
    {
     "name": "stdout",
     "output_type": "stream",
     "text": [
      "   survived  pclass  sex   age\n",
      "0         0       3    0  22.0\n",
      "1         1       1    1  38.0\n",
      "2         1       3    1  26.0\n",
      "3         1       1    1  35.0\n",
      "4         0       3    0  35.0\n"
     ]
    }
   ],
   "source": [
    "# Keep relevant features\n",
    "titanic = df[[\"survived\", \"pclass\", \"sex\", \"age\"]]\n",
    "\n",
    "# Drop rows with missing age\n",
    "titanic = titanic.dropna()\n",
    "\n",
    "# Convert categorical variable \"sex\" into numeric (male=0, female=1)\n",
    "titanic[\"sex\"] = titanic[\"sex\"].map({\"male\":0, \"female\":1})\n",
    "\n",
    "print(titanic.head())\n"
   ]
  },
  {
   "cell_type": "markdown",
   "id": "a1b656ad-6248-43ee-b485-41bccb56ad3e",
   "metadata": {},
   "source": [
    "## Step 4: Train-Test Split"
   ]
  },
  {
   "cell_type": "code",
   "execution_count": 4,
   "id": "5dda53e1-0746-4081-9c49-230682a29421",
   "metadata": {},
   "outputs": [],
   "source": [
    "X = titanic[[\"pclass\", \"sex\", \"age\"]]\n",
    "y = titanic[\"survived\"]\n",
    "\n",
    "X_train, X_test, y_train, y_test = train_test_split(X, y, test_size=0.2, random_state=42)\n"
   ]
  },
  {
   "cell_type": "markdown",
   "id": "9d0c14a4-0a0c-41f3-bb50-2c91ce52397d",
   "metadata": {},
   "source": [
    "## Step 5: Build Logistic Regression Model"
   ]
  },
  {
   "cell_type": "code",
   "execution_count": 5,
   "id": "64be71d5-b905-46f0-b9d3-8d1820a750ec",
   "metadata": {},
   "outputs": [
    {
     "name": "stdout",
     "output_type": "stream",
     "text": [
      "Model Coefficients: [[-1.24873462  2.53219712 -0.04253228]]\n",
      "Model Intercept: [2.63788212]\n"
     ]
    }
   ],
   "source": [
    "model = LogisticRegression(max_iter=200)\n",
    "model.fit(X_train, y_train)\n",
    "\n",
    "print(\"Model Coefficients:\", model.coef_)\n",
    "print(\"Model Intercept:\", model.intercept_)\n"
   ]
  },
  {
   "cell_type": "markdown",
   "id": "a968adef-387d-4d4b-9b0e-d7d09a1ee7cd",
   "metadata": {},
   "source": [
    "## Step 6: Predictions"
   ]
  },
  {
   "cell_type": "code",
   "execution_count": 6,
   "id": "7ffe7083-2c25-4da8-b421-0191dc7bf060",
   "metadata": {},
   "outputs": [
    {
     "name": "stdout",
     "output_type": "stream",
     "text": [
      "Predicted: [0 1 1 1 0 0 1 1 1 1]\n",
      "Actual: [0, 1, 1, 1, 0, 1, 1, 1, 0, 0]\n"
     ]
    }
   ],
   "source": [
    "y_pred = model.predict(X_test)\n",
    "\n",
    "print(\"Predicted:\", y_pred[:10])\n",
    "print(\"Actual:\", list(y_test[:10]))\n"
   ]
  },
  {
   "cell_type": "markdown",
   "id": "78412793-ef1f-4644-b9e3-90ba2f749296",
   "metadata": {},
   "source": [
    "## Step 7: Model Evaluation"
   ]
  },
  {
   "cell_type": "code",
   "execution_count": 7,
   "id": "15bfbf91-45a2-4676-808c-2ae61b02673b",
   "metadata": {},
   "outputs": [
    {
     "name": "stdout",
     "output_type": "stream",
     "text": [
      "Accuracy: 0.7482517482517482\n",
      "Confusion Matrix:\n",
      " [[68 19]\n",
      " [17 39]]\n",
      "Classification Report:\n",
      "               precision    recall  f1-score   support\n",
      "\n",
      "           0       0.80      0.78      0.79        87\n",
      "           1       0.67      0.70      0.68        56\n",
      "\n",
      "    accuracy                           0.75       143\n",
      "   macro avg       0.74      0.74      0.74       143\n",
      "weighted avg       0.75      0.75      0.75       143\n",
      "\n"
     ]
    }
   ],
   "source": [
    "# Accuracy\n",
    "accuracy = accuracy_score(y_test, y_pred)\n",
    "print(\"Accuracy:\", accuracy)\n",
    "\n",
    "# Confusion Matrix\n",
    "cm = confusion_matrix(y_test, y_pred)\n",
    "print(\"Confusion Matrix:\\n\", cm)\n",
    "\n",
    "# Classification Report\n",
    "print(\"Classification Report:\\n\", classification_report(y_test, y_pred))\n"
   ]
  },
  {
   "cell_type": "markdown",
   "id": "86888ee4-c23e-4734-b42b-3eecfca20f38",
   "metadata": {},
   "source": [
    "## Step 8: Visualization"
   ]
  },
  {
   "cell_type": "code",
   "execution_count": 8,
   "id": "55be7bf8-c77a-42df-a3bf-1600c66c2c0a",
   "metadata": {},
   "outputs": [
    {
     "data": {
      "image/png": "[encoded data removed]",
      "text/plain": [
       "<Figure size 640x480 with 2 Axes>"
      ]
     },
     "metadata": {},
     "output_type": "display_data"
    }
   ],
   "source": [
    "sns.heatmap(cm, annot=True, fmt=\"d\", cmap=\"Blues\",\n",
    "            xticklabels=[\"Did Not Survive\", \"Survived\"],\n",
    "            yticklabels=[\"Did Not Survive\", \"Survived\"])\n",
    "plt.title(\"Confusion Matrix - Logistic Regression\")\n",
    "plt.ylabel(\"Actual\")\n",
    "plt.xlabel(\"Predicted\")\n",
    "plt.show()\n"
   ]
  },
  {
   "cell_type": "markdown",
   "id": "cdd05c9d-5ac2-4f01-9580-d30b57b08620",
   "metadata": {},
   "source": [
    "### ✅ Insights\n",
    "\n",
    "Accuracy around 75–80% is typical with these basic features.\n",
    "\n",
    "Sex is the most important predictor (females had higher survival).\n",
    "\n",
    "Pclass (1st > 3rd) also plays a strong role.\n",
    "\n",
    "Age has a smaller but still relevant effect."
   ]
  },
  {
   "cell_type": "code",
   "execution_count": null,
   "id": "1c2dcee4-ca13-4874-bdfe-084535c56361",
   "metadata": {},
   "outputs": [],
   "source": []
  }
 ],
 "metadata": {
  "kernelspec": {
   "display_name": "Python 3 (ipykernel)",
   "language": "python",
   "name": "python3"
  },
  "language_info": {
   "codemirror_mode": {
    "name": "ipython",
    "version": 3
   },
   "file_extension": ".py",
   "mimetype": "text/x-python",
   "name": "python",
   "nbconvert_exporter": "python",
   "pygments_lexer": "ipython3",
   "version": "3.10.12"
  }
 },
 "nbformat": 4,
 "nbformat_minor": 5
}
