{
 "cells": [
  {
   "cell_type": "markdown",
   "id": "cf04230a-9d97-46f7-9e85-1041af5994fb",
   "metadata": {},
   "source": [
    "### Project 6: Sentiment Analysis on Social Media Data"
   ]
  },
  {
   "cell_type": "markdown",
   "id": "81aafc4a-aeca-44a9-9fd5-97a31823dd59",
   "metadata": {},
   "source": [
    "## Step 1: Import Libraries"
   ]
  },
  {
   "cell_type": "code",
   "execution_count": 6,
   "id": "643dd168-4c9e-480c-b0d8-9473164f2a14",
   "metadata": {},
   "outputs": [
    {
     "name": "stdout",
     "output_type": "stream",
     "text": [
      "Defaulting to user installation because normal site-packages is not writeable\n",
      "Collecting textblob\n",
      "  Downloading textblob-0.19.0-py3-none-any.whl (624 kB)\n",
      "\u001b[2K     \u001b[38;2;114;156;31m━━━━━━━━━━━━━━━━━━━━━━━━━━━━━━━━━━━━━━\u001b[0m \u001b[32m624.3/624.3 KB\u001b[0m \u001b[31m12.1 kB/s\u001b[0m eta \u001b[36m0:00:00\u001b[0m31m11.7 kB/s\u001b[0m eta \u001b[36m0:00:02\u001b[0m\n",
      "\u001b[?25hRequirement already satisfied: nltk>=3.9 in /home/user/.local/lib/python3.10/site-packages (from textblob) (3.9.1)\n",
      "Requirement already satisfied: joblib in /home/user/.local/lib/python3.10/site-packages (from nltk>=3.9->textblob) (1.4.2)\n",
      "Requirement already satisfied: tqdm in /home/user/.local/lib/python3.10/site-packages (from nltk>=3.9->textblob) (4.67.1)\n",
      "Requirement already satisfied: regex>=2021.8.3 in /home/user/.local/lib/python3.10/site-packages (from nltk>=3.9->textblob) (2024.11.6)\n",
      "Requirement already satisfied: click in /usr/lib/python3/dist-packages (from nltk>=3.9->textblob) (8.0.3)\n",
      "Installing collected packages: textblob\n",
      "Successfully installed textblob-0.19.0\n"
     ]
    }
   ],
   "source": [
    "!pip install textblob\n"
   ]
  },
  {
   "cell_type": "code",
   "execution_count": 7,
   "id": "87e132d7-6705-4665-b156-4c9d380c3f30",
   "metadata": {},
   "outputs": [],
   "source": [
    "import pandas as pd\n",
    "import re\n",
    "import matplotlib.pyplot as plt\n",
    "from textblob import TextBlob\n"
   ]
  },
  {
   "cell_type": "markdown",
   "id": "4a68a68e-2110-422a-bfe4-66af2db095b3",
   "metadata": {},
   "source": [
    "## Step 2: Collect Data\n",
    "\n",
    "Option A: Use Twitter API (Tweepy) (requires developer account).\n",
    "\n",
    "Option B: For practice, we’ll simulate with a sample dataset of tweets."
   ]
  },
  {
   "cell_type": "code",
   "execution_count": 8,
   "id": "04469672-4e53-4aaa-94fb-ca61ba56b077",
   "metadata": {},
   "outputs": [
    {
     "name": "stdout",
     "output_type": "stream",
     "text": [
      "                                               tweet\n",
      "0   I love the new iPhone, the camera is amazing! 📱😍\n",
      "1  This is the worst service I’ve ever used. Terr...\n",
      "2     It’s okay, nothing special about this product.\n",
      "3       Feeling happy about the launch event today 🎉\n",
      "4           Ugh, the update broke my phone. Hate it!\n",
      "5  The movie was fantastic, had a great time watc...\n"
     ]
    }
   ],
   "source": [
    "data = {\n",
    "    \"tweet\": [\n",
    "        \"I love the new iPhone, the camera is amazing! 📱😍\",\n",
    "        \"This is the worst service I’ve ever used. Terrible experience!\",\n",
    "        \"It’s okay, nothing special about this product.\",\n",
    "        \"Feeling happy about the launch event today 🎉\",\n",
    "        \"Ugh, the update broke my phone. Hate it!\",\n",
    "        \"The movie was fantastic, had a great time watching it.\"\n",
    "    ]\n",
    "}\n",
    "\n",
    "df = pd.DataFrame(data)\n",
    "print(df)\n"
   ]
  },
  {
   "cell_type": "markdown",
   "id": "0533cdb4-f35c-4cd1-afd7-3b1951cf9822",
   "metadata": {},
   "source": [
    "## Step 3: Data Cleaning\n",
    "\n",
    "Social media data often has hashtags, mentions, URLs, emojis. Let’s clean it."
   ]
  },
  {
   "cell_type": "code",
   "execution_count": 9,
   "id": "509edc7e-0692-419e-994b-5e19bc13b299",
   "metadata": {},
   "outputs": [
    {
     "name": "stdout",
     "output_type": "stream",
     "text": [
      "                                               tweet  \\\n",
      "0   I love the new iPhone, the camera is amazing! 📱😍   \n",
      "1  This is the worst service I’ve ever used. Terr...   \n",
      "2     It’s okay, nothing special about this product.   \n",
      "3       Feeling happy about the launch event today 🎉   \n",
      "4           Ugh, the update broke my phone. Hate it!   \n",
      "5  The movie was fantastic, had a great time watc...   \n",
      "\n",
      "                                         clean_tweet  \n",
      "0        i love the new iphone the camera is amazing  \n",
      "1  this is the worst service ive ever used terrib...  \n",
      "2        its okay nothing special about this product  \n",
      "3         feeling happy about the launch event today  \n",
      "4              ugh the update broke my phone hate it  \n",
      "5  the movie was fantastic had a great time watch...  \n"
     ]
    }
   ],
   "source": [
    "def clean_text(text):\n",
    "    text = re.sub(r\"@\\w+\", \"\", text)         # Remove mentions\n",
    "    text = re.sub(r\"#\\w+\", \"\", text)         # Remove hashtags\n",
    "    text = re.sub(r\"http\\S+\", \"\", text)      # Remove URLs\n",
    "    text = re.sub(r\"[^A-Za-z\\s]\", \"\", text)  # Remove emojis/symbols\n",
    "    return text.lower().strip()\n",
    "\n",
    "df[\"clean_tweet\"] = df[\"tweet\"].apply(clean_text)\n",
    "print(df[[\"tweet\", \"clean_tweet\"]])\n"
   ]
  },
  {
   "cell_type": "markdown",
   "id": "5b9ad9dd-f71e-48fc-bc4e-4ead3c789209",
   "metadata": {},
   "source": [
    "## Step 4: Sentiment Analysis with TextBlob\n",
    "\n",
    "TextBlob gives polarity (–1 = negative, +1 = positive) and subjectivity."
   ]
  },
  {
   "cell_type": "code",
   "execution_count": 10,
   "id": "ff186eb7-b14e-461f-860c-5e1854c8f8a7",
   "metadata": {},
   "outputs": [
    {
     "name": "stdout",
     "output_type": "stream",
     "text": [
      "                                               tweet sentiment\n",
      "0   I love the new iPhone, the camera is amazing! 📱😍  Positive\n",
      "1  This is the worst service I’ve ever used. Terr...  Negative\n",
      "2     It’s okay, nothing special about this product.  Positive\n",
      "3       Feeling happy about the launch event today 🎉  Positive\n",
      "4           Ugh, the update broke my phone. Hate it!  Negative\n",
      "5  The movie was fantastic, had a great time watc...  Positive\n"
     ]
    }
   ],
   "source": [
    "def get_sentiment(text):\n",
    "    analysis = TextBlob(text)\n",
    "    if analysis.sentiment.polarity > 0:\n",
    "        return \"Positive\"\n",
    "    elif analysis.sentiment.polarity < 0:\n",
    "        return \"Negative\"\n",
    "    else:\n",
    "        return \"Neutral\"\n",
    "\n",
    "df[\"sentiment\"] = df[\"clean_tweet\"].apply(get_sentiment)\n",
    "print(df[[\"tweet\", \"sentiment\"]])\n"
   ]
  },
  {
   "cell_type": "code",
   "execution_count": 11,
   "id": "5f4f733a-2ec8-4a87-8ad8-c62b9ae2f59a",
   "metadata": {},
   "outputs": [
    {
     "name": "stdout",
     "output_type": "stream",
     "text": [
      "                                               tweet  \\\n",
      "0   I love the new iPhone, the camera is amazing! 📱😍   \n",
      "1  This is the worst service I’ve ever used. Terr...   \n",
      "2     It’s okay, nothing special about this product.   \n",
      "3       Feeling happy about the launch event today 🎉   \n",
      "4           Ugh, the update broke my phone. Hate it!   \n",
      "5  The movie was fantastic, had a great time watc...   \n",
      "\n",
      "                                         clean_tweet sentiment  \n",
      "0        i love the new iphone the camera is amazing  Positive  \n",
      "1  this is the worst service ive ever used terrib...  Negative  \n",
      "2        its okay nothing special about this product  Positive  \n",
      "3         feeling happy about the launch event today  Positive  \n",
      "4              ugh the update broke my phone hate it  Negative  \n",
      "5  the movie was fantastic had a great time watch...  Positive  \n"
     ]
    }
   ],
   "source": [
    "from textblob import TextBlob\n",
    "\n",
    "# Function to classify sentiment\n",
    "def get_sentiment(text):\n",
    "    analysis = TextBlob(text)\n",
    "    if analysis.sentiment.polarity > 0:\n",
    "        return \"Positive\"\n",
    "    elif analysis.sentiment.polarity < 0:\n",
    "        return \"Negative\"\n",
    "    else:\n",
    "        return \"Neutral\"\n",
    "\n",
    "# Apply to cleaned tweets\n",
    "df[\"sentiment\"] = df[\"clean_tweet\"].apply(get_sentiment)\n",
    "\n",
    "print(df[[\"tweet\", \"clean_tweet\", \"sentiment\"]])\n"
   ]
  },
  {
   "cell_type": "markdown",
   "id": "0b231cbd-39b7-43ff-9e00-54fffed1412a",
   "metadata": {},
   "source": [
    "## Step 5: Visualization"
   ]
  },
  {
   "cell_type": "code",
   "execution_count": 12,
   "id": "edd09886-ca28-443f-ad11-10b20eaee09b",
   "metadata": {},
   "outputs": [
    {
     "data": {
      "image/png": "[encoded data removed]",
      "text/plain": [
       "<Figure size 600x400 with 1 Axes>"
      ]
     },
     "metadata": {},
     "output_type": "display_data"
    }
   ],
   "source": [
    "sentiment_counts = df[\"sentiment\"].value_counts()\n",
    "\n",
    "plt.figure(figsize=(6,4))\n",
    "sentiment_counts.plot(kind=\"bar\", color=[\"green\",\"red\",\"gray\"])\n",
    "plt.title(\"Sentiment Analysis on Tweets\")\n",
    "plt.xlabel(\"Sentiment\")\n",
    "plt.ylabel(\"Count\")\n",
    "plt.show()\n"
   ]
  },
  {
   "cell_type": "markdown",
   "id": "88a6db54-e7a7-48f4-b18b-0f7a27ea9a0a",
   "metadata": {},
   "source": [
    "## ✅ Insights\n",
    "\n",
    "Positive tweets → Praise for product/events.\n",
    "\n",
    "Negative tweets → Complaints about service/bugs.\n",
    "\n",
    "Neutral tweets → Mixed/average opinions."
   ]
  }
 ],
 "metadata": {
  "kernelspec": {
   "display_name": "Python 3 (ipykernel)",
   "language": "python",
   "name": "python3"
  },
  "language_info": {
   "codemirror_mode": {
    "name": "ipython",
    "version": 3
   },
   "file_extension": ".py",
   "mimetype": "text/x-python",
   "name": "python",
   "nbconvert_exporter": "python",
   "pygments_lexer": "ipython3",
   "version": "3.10.12"
  }
 },
 "nbformat": 4,
 "nbformat_minor": 5
}
